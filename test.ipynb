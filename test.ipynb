{
 "cells": [
  {
   "cell_type": "code",
   "execution_count": null,
   "metadata": {
    "collapsed": true,
    "tags": [
     "dataloader.py"
    ]
   },
   "outputs": [],
   "source": [
    "from __future__ import print_function\n",
    "import scipy.io as sio\n",
    "from matplotlib import pyplot as plt\n",
    "import numpy as np\n",
    "\n",
    "\n",
    "# configuration\n",
    "BATCH_SIZE = 35\n",
    "DATASET_PATH = \"./data/train_32x32.mat\"\n",
    "\n",
    "class DataLoader:\n",
    "  def __init__(self, data_path, batch_size):\n",
    "    data = sio.loadmat(data_path)\n",
    "    self.images = data['X']\n",
    "    self.labels = data['y']\n",
    "\n",
    "    num_samples = self.labels.shape[0]\n",
    "    num_batches = num_samples // batch_size\n",
    "    # last_batch_size = num_samples - num_batches * batch_size\n",
    "    split_conf = [batch_size*(i+1) for i in range(num_batches)]\n",
    "    split_conf.append(num_samples)\n",
    "\n",
    "    self.image_batches = np.split(np.transpose(self.images, (3, 0, 1, 2)), split_conf, axis=0)\n",
    "    self.label_batches = np.split(self.labels, split_conf, axis=0)\n",
    "\n",
    "  def iter(self):\n",
    "    for image, label in zip(self.image_batches, self.label_batches):\n",
    "      yield image, label\n",
    "\n",
    "\n",
    "if __name__ == \"__main__\":\n",
    "\n",
    "  dataloader = DataLoader(DATASET_PATH, BATCH_SIZE)\n",
    "\n",
    "  batch_count = 0\n",
    "  fig = plt.figure()\n",
    "  for image_batch, label_batch in dataloader.iter():\n",
    "    if batch_count > 0:\n",
    "      break\n",
    "    for batch_i in range(BATCH_SIZE):\n",
    "      sub_plot = fig.add_subplot(BATCH_SIZE/10, 10, batch_i+1)\n",
    "      plt.imshow(image_batch[batch_i])\n",
    "    batch_count += 1\n",
    "\n",
    "  plt.show()\n"
   ]
  },
  {
   "cell_type": "code",
   "execution_count": null,
   "metadata": {
    "collapsed": true
   },
   "outputs": [],
   "source": []
  }
 ],
 "metadata": {
  "celltoolbar": "Tags",
  "kernelspec": {
   "display_name": "Python 2",
   "language": "python",
   "name": "python2"
  },
  "language_info": {
   "codemirror_mode": {
    "name": "ipython",
    "version": 2
   },
   "file_extension": ".py",
   "mimetype": "text/x-python",
   "name": "python",
   "nbconvert_exporter": "python",
   "pygments_lexer": "ipython2",
   "version": "2.7.6"
  }
 },
 "nbformat": 4,
 "nbformat_minor": 2
}
